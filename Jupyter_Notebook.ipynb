{
 "cells": [
  {
   "cell_type": "markdown",
   "metadata": {},
   "source": [
    "<center>\n",
    "    <img src=\"https://cf-courses-data.s3.us.cloud-object-storage.appdomain.cloud/IBMDeveloperSkillsNetwork-DS0105EN-SkillsNetwork/labs/Module2/images/SN_web_lightmode.png\" width=\"300\" alt=\"cognitiveclass.ai logo\">\n",
    "</center>\n"
   ]
  },
  {
   "cell_type": "markdown",
   "metadata": {
    "tags": []
   },
   "source": [
    "# Data Science Tools and Ecosystem\n"
   ]
  },
  {
   "cell_type": "markdown",
   "metadata": {},
   "source": [
    "## In this notebook, Data Science Tools and Ecosystem are summarized."
   ]
  },
  {
   "cell_type": "markdown",
   "metadata": {
    "tags": []
   },
   "source": [
    "### Some of the popular languages that Data Scientists use are:\n"
   ]
  },
  {
   "cell_type": "markdown",
   "metadata": {},
   "source": [
    "#### Programming Languages\n",
    "* Python\n",
    "* R"
   ]
  },
  {
   "cell_type": "markdown",
   "metadata": {},
   "source": [
    "### Some of the commonly used libraries used by Data Scientists include:"
   ]
  },
  {
   "cell_type": "markdown",
   "metadata": {},
   "source": [
    "#### Data Manipulation and Analysis Libraries\n",
    "* pandas\n",
    "* NumPy\n",
    "* dplyr"
   ]
  },
  {
   "cell_type": "markdown",
   "metadata": {},
   "source": [
    "### Data Science Tools"
   ]
  },
  {
   "cell_type": "markdown",
   "metadata": {},
   "source": [
    "#### Programming Languages\n",
    "* Python\n",
    "* R\n",
    "#### IDEs and Notebooks\n",
    "* Jupyter Notebook\n",
    "* RStudio\n",
    "* PyCharm\n",
    "#### Data Visualization Tools\n",
    "* Tableau\n",
    "* Power BI\n",
    "* Plotly\n",
    "#### Data Manipulation and Analysis Libraries\n",
    "* pandas\n",
    "* NumPy\n",
    "* dplyr\n",
    "#### Machine Learning and Deep Learning Frameworks\n",
    "* scikit-learn\n",
    "* TensorFlow\n",
    "* Keras\n",
    "* PyTorch\n",
    "* Big Data Technologies\n",
    "* Apache Hadoop\n",
    "* Apache Spark\n",
    "* Dask\n",
    "#### Database Management Systems\n",
    "* SQL\n",
    "* PostgreSQL\n",
    "* MongoDB\n",
    "#### Data Cleaning Tools\n",
    "* OpenRefine\n",
    "* Trifacta\n",
    "#### Cloud Platforms and Services\n",
    "* AWS\n",
    "* Google Cloud Platform (GCP)\n",
    "* Microsoft Azure\n",
    "#### Version Control and Collaboration\n",
    "* Git\n",
    "* GitHub/GitLab/Bitbucket\n",
    "\n",
    "\n"
   ]
  },
  {
   "cell_type": "markdown",
   "metadata": {},
   "source": [
    "### Below are a few examples of evaluating arithmetic expressions in Python"
   ]
  },
  {
   "cell_type": "markdown",
   "metadata": {},
   "source": [
    "#### Addition\n",
    "##### result = 5 + 3\n",
    "##### print(result)  # Output: 8\n",
    "\n",
    "#### Subtraction\n",
    "##### result = 10 - 4\n",
    "##### print(result)  # Output: 6\n",
    "\n",
    "#### Multiplication\n",
    "##### result = 7 * 3\n",
    "##### print(result)  # Output: 21\n",
    "\n",
    "#### Division\n",
    "##### result = 15 / 3\n",
    "##### print(result)  # Output: 5.0\n",
    "\n",
    "#### Integer Division\n",
    "##### result = 15 // 4\n",
    "##### print(result)  # Output: 3\n",
    "\n",
    "#### Modulus (Remainder)\n",
    "##### result = 15 % 4\n",
    "##### print(result)  # Output: 3\n",
    "\n",
    "#### Exponentiation\n",
    "##### result = 2 ** 4\n",
    "##### print(result)  # Output: 16"
   ]
  },
  {
   "cell_type": "markdown",
   "metadata": {},
   "source": [
    "#### This a simple arithmetic expression to mutiply then add integers"
   ]
  },
  {
   "cell_type": "code",
   "execution_count": 2,
   "metadata": {
    "tags": []
   },
   "outputs": [
    {
     "data": {
      "text/plain": [
       "17"
      ]
     },
     "execution_count": 2,
     "metadata": {},
     "output_type": "execute_result"
    }
   ],
   "source": [
    "(3*4)+5"
   ]
  },
  {
   "cell_type": "code",
   "execution_count": 1,
   "metadata": {
    "tags": []
   },
   "outputs": [
    {
     "data": {
      "text/plain": [
       "3.3333333333333335"
      ]
     },
     "execution_count": 1,
     "metadata": {},
     "output_type": "execute_result"
    }
   ],
   "source": [
    "minutes=200\n",
    "hours=minutes/60\n",
    "hours"
   ]
  },
  {
   "cell_type": "markdown",
   "metadata": {},
   "source": [
    "### Objectives:\n",
    "\n",
    "- List popular languages for Data Science\n",
    "- Understand the basics of data manipulation and analysis\n",
    "- Explore data visualization techniques\n",
    "- Learn about different types of machine learning algorithms\n",
    "- Implement a simple machine learning model"
   ]
  },
  {
   "cell_type": "markdown",
   "metadata": {},
   "source": [
    "## Author:"
   ]
  },
  {
   "cell_type": "markdown",
   "metadata": {},
   "source": [
    "#### Lakshmi Holla\n",
    "\n",
    "#### Niveditha Pandith"
   ]
  },
  {
   "cell_type": "code",
   "execution_count": null,
   "metadata": {},
   "outputs": [],
   "source": []
  }
 ],
 "metadata": {
  "kernelspec": {
   "display_name": "Python",
   "language": "python",
   "name": "conda-env-python-py"
  },
  "language_info": {
   "codemirror_mode": {
    "name": "ipython",
    "version": 3
   },
   "file_extension": ".py",
   "mimetype": "text/x-python",
   "name": "python",
   "nbconvert_exporter": "python",
   "pygments_lexer": "ipython3",
   "version": "3.7.12"
  }
 },
 "nbformat": 4,
 "nbformat_minor": 4
}
